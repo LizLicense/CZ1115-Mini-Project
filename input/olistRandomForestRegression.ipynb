{
 "cells": [
  {
   "cell_type": "markdown",
   "id": "continent-inventory",
   "metadata": {},
   "source": [
    "Previously with linear regression (review - sales amount) we found out that our hypothsis about review will affect sales amount is incorrect as the correlation factors is around 0.05\n",
    "\n",
    "Below process will use Random Forest Regression to analyse and predict sales amount with multiple attributes.\n"
   ]
  },
  {
   "cell_type": "code",
   "execution_count": 114,
   "id": "amateur-square",
   "metadata": {},
   "outputs": [],
   "source": [
    "import os\n",
    "from zipfile import ZipFile\n",
    "\n",
    "# app.py\n",
    "# call api \n",
    "# 1. According to kaggle website, api call require install package in pip -> pip install )\n",
    "# 2. After install go to kaggle account page  https://www.kaggle.com/<username>/account to get api token\n",
    "# 3. Place downloaded json file C:\\Users\\<Windows-username>\\.kaggle\\kaggle.json\n",
    "os.system(\"kaggle datasets download -d olistbr/brazilian-ecommerce\")\n",
    "with ZipFile('brazilian-ecommerce.zip', 'r') as zipObj:\n",
    "   # Extract all the contents of zip file in current directory\n",
    "   zipObj.extractall()\n",
    "\n",
    "\n",
    "os.system(\"kaggle datasets download -d olistbr/marketing-funnel-olist\")\n",
    "with ZipFile('marketing-funnel-olist.zip', 'r') as zipObj:\n",
    "   # Extract all the contents of zip file in current directory\n",
    "   zipObj.extractall()"
   ]
  },
  {
   "cell_type": "code",
   "execution_count": 115,
   "id": "opposite-tomorrow",
   "metadata": {},
   "outputs": [],
   "source": [
    "import pandas as pd\n",
    "import numpy as np\n",
    "import matplotlib.pyplot as plt\n",
    "import seaborn as sns\n",
    "from sklearn import preprocessing\n",
    "pd.set_option('display.max_columns', None) \n",
    "\n",
    "pd.set_option('display.max_rows', None) \n",
    "pd.set_option('max_colwidth',100)\n",
    "\n",
    "\n",
    "customers=pd.read_csv('olist_customers_dataset.csv')\n",
    "geolocation=pd.read_csv('olist_geolocation_dataset.csv')\n",
    "order_items=pd.read_csv('olist_order_items_dataset.csv')\n",
    "order_payments=pd.read_csv('olist_order_payments_dataset.csv')\n",
    "order_reviews=pd.read_csv('olist_order_reviews_dataset.csv')\n",
    "orders=pd.read_csv('olist_orders_dataset.csv')\n",
    "products=pd.read_csv('olist_products_dataset.csv')\n",
    "sellers=pd.read_csv('olist_sellers_dataset.csv')\n",
    "translation=pd.read_csv('product_category_name_translation.csv')\n",
    "\n",
    "market_qualified_leads = pd.read_csv('olist_marketing_qualified_leads_dataset.csv')\n",
    "closed_deals = pd.read_csv('olist_closed_deals_dataset.csv')\n",
    "\n"
   ]
  },
  {
   "cell_type": "code",
   "execution_count": 116,
   "id": "seven-animal",
   "metadata": {
    "scrolled": true
   },
   "outputs": [
    {
     "data": {
      "text/html": [
       "<div>\n",
       "<style scoped>\n",
       "    .dataframe tbody tr th:only-of-type {\n",
       "        vertical-align: middle;\n",
       "    }\n",
       "\n",
       "    .dataframe tbody tr th {\n",
       "        vertical-align: top;\n",
       "    }\n",
       "\n",
       "    .dataframe thead th {\n",
       "        text-align: right;\n",
       "    }\n",
       "</style>\n",
       "<table border=\"1\" class=\"dataframe\">\n",
       "  <thead>\n",
       "    <tr style=\"text-align: right;\">\n",
       "      <th></th>\n",
       "      <th>order_id</th>\n",
       "      <th>payment_sequential</th>\n",
       "      <th>payment_type</th>\n",
       "      <th>payment_installments</th>\n",
       "      <th>payment_value</th>\n",
       "    </tr>\n",
       "  </thead>\n",
       "  <tbody>\n",
       "    <tr>\n",
       "      <th>0</th>\n",
       "      <td>b81ef226f3fe1789b1e8b2acac839d17</td>\n",
       "      <td>1</td>\n",
       "      <td>credit_card</td>\n",
       "      <td>8</td>\n",
       "      <td>99.33</td>\n",
       "    </tr>\n",
       "    <tr>\n",
       "      <th>1</th>\n",
       "      <td>a9810da82917af2d9aefd1278f1dcfa0</td>\n",
       "      <td>1</td>\n",
       "      <td>credit_card</td>\n",
       "      <td>1</td>\n",
       "      <td>24.39</td>\n",
       "    </tr>\n",
       "    <tr>\n",
       "      <th>2</th>\n",
       "      <td>25e8ea4e93396b6fa0d3dd708e76c1bd</td>\n",
       "      <td>1</td>\n",
       "      <td>credit_card</td>\n",
       "      <td>1</td>\n",
       "      <td>65.71</td>\n",
       "    </tr>\n",
       "    <tr>\n",
       "      <th>3</th>\n",
       "      <td>ba78997921bbcdc1373bb41e913ab953</td>\n",
       "      <td>1</td>\n",
       "      <td>credit_card</td>\n",
       "      <td>8</td>\n",
       "      <td>107.78</td>\n",
       "    </tr>\n",
       "    <tr>\n",
       "      <th>4</th>\n",
       "      <td>42fdf880ba16b47b59251dd489d4441a</td>\n",
       "      <td>1</td>\n",
       "      <td>credit_card</td>\n",
       "      <td>2</td>\n",
       "      <td>128.45</td>\n",
       "    </tr>\n",
       "  </tbody>\n",
       "</table>\n",
       "</div>"
      ],
      "text/plain": [
       "                           order_id  payment_sequential payment_type  \\\n",
       "0  b81ef226f3fe1789b1e8b2acac839d17                   1  credit_card   \n",
       "1  a9810da82917af2d9aefd1278f1dcfa0                   1  credit_card   \n",
       "2  25e8ea4e93396b6fa0d3dd708e76c1bd                   1  credit_card   \n",
       "3  ba78997921bbcdc1373bb41e913ab953                   1  credit_card   \n",
       "4  42fdf880ba16b47b59251dd489d4441a                   1  credit_card   \n",
       "\n",
       "   payment_installments  payment_value  \n",
       "0                     8          99.33  \n",
       "1                     1          24.39  \n",
       "2                     1          65.71  \n",
       "3                     8         107.78  \n",
       "4                     2         128.45  "
      ]
     },
     "execution_count": 116,
     "metadata": {},
     "output_type": "execute_result"
    }
   ],
   "source": [
    "order_payments.head()"
   ]
  },
  {
   "cell_type": "code",
   "execution_count": 117,
   "id": "correct-nevada",
   "metadata": {},
   "outputs": [],
   "source": [
    "def DataMerge_mql_closed_deals():\n",
    "    mf = market_qualified_leads.merge(closed_deals, on='mql_id', how='left')\n",
    "    #mf_sellers = mf.merge(sellers, on='seller_id', how='left')\n",
    "    #mf_items = mf.merge(order_items, on='seller_id', how='left')\n",
    "    return mf\n",
    "\n",
    "def DataMerge_orderInfo():\n",
    "    #orderid_amount=order_payments.groupby(['order_id']).agg({'payment_value':sum,'order_id':len})\n",
    "    #orderid_amount.columns=['totalpayment_value','total_qty']\n",
    "    #orderid_amount=orderid_amount.reset_index()\n",
    "    orderid_amount=order_items.groupby(['order_id']).agg({'price':sum,'order_id':len})\n",
    "    orderid_amount.columns=['totalprice_value','total_qty']\n",
    "    orderid_amount=orderid_amount.reset_index()\n",
    "\n",
    "    ops=orderid_amount.merge(order_items[['order_id', 'product_id', 'seller_id']],how='left',on='order_id')\n",
    "\n",
    "    ops=ops.merge(products[['product_id','product_category_name','product_photos_qty']],how='left',on=['product_id'])\n",
    "\n",
    "    ops=ops.merge(order_reviews[['review_score','order_id']],how='inner',on='order_id')\n",
    "\n",
    "    for col in['order_delivered_customer_date','order_purchase_timestamp']:\n",
    "        orders[col] = pd.to_datetime(orders[col])\n",
    "    orders['delivery_days']=(orders['order_delivered_customer_date'].dt.date-orders['order_purchase_timestamp'].dt.date).dt.days\n",
    "\n",
    "    ops=ops.merge(orders[['order_id', 'customer_id','order_purchase_timestamp','delivery_days']],how='inner',on='order_id')\n",
    "\n",
    "    ops=ops.merge(customers[['customer_id','customer_city','customer_state']],how='inner',on='customer_id')\n",
    "\n",
    "    #translate to English\n",
    "    ops=pd.merge(ops,translation,on='product_category_name',how='left')\n",
    "\n",
    "    ops['order_purchase_month_year'] = pd.to_datetime(ops['order_purchase_timestamp']).dt.to_period('M')\n",
    "    ops.drop(columns=['order_purchase_timestamp'],inplace=True)\n",
    "    ops=ops[ops.seller_id.notnull()]\n",
    "\n",
    "    ###Aggregating on an orderid level\n",
    "    ops['rc']=ops.groupby(['order_id']).cumcount()+1\n",
    "    ops=ops[ops.rc==1]\n",
    "    ops.drop(columns={'rc'},inplace=True)\n",
    "\n",
    "    ##Ensuring Jan 2017-Sep 2018 is being considered\n",
    "    ops=ops[(ops.order_purchase_month_year>='2017-01')&(ops.order_purchase_month_year<'2018-10')]\n",
    "\n",
    "    ops.order_purchase_month_year.value_counts()\n",
    "    ###Unique on Order_id level\n",
    "    ops.shape,ops.order_id.nunique()\n",
    "    return ops\n",
    "\n",
    "    \n",
    "def Plot_monthly_revenueGraph(ops):\n",
    "    mr=pd.DataFrame(ops.order_purchase_month_year.value_counts()).reset_index()\n",
    "    mr=ops.groupby(['order_purchase_month_year']).agg({'order_id':len,'totalprice_value':sum}).reset_index()\n",
    "    mr.columns=['year_month','order_count','revenue_generated']\n",
    "    mr.year_month=mr.year_month.astype(str)\n",
    "    \n",
    "    # create figure and axis objects with subplots()\n",
    "    fig,ax = plt.subplots()\n",
    "    plt.xticks(rotation=-45)\n",
    "    # make a plot\n",
    "    ax.plot(mr.year_month, mr.order_count, color=\"red\", marker=\"o\")\n",
    "    # set x-axis label\n",
    "    ax.set_xlabel(\"year_month\",fontsize=14)\n",
    "    # set y-axis label\n",
    "    ax.set_ylabel(\"order_count\",color=\"red\",fontsize=14)\n",
    "    ax.set_title('Monthly Performance Jan 2017-Sep 2018')\n",
    "    # twin object for two different y-axis on the sample plot\n",
    "    ax2=ax.twinx()\n",
    "    # make a plot with different y-axis using second axis object\n",
    "    ax2.plot(mr.year_month, mr.revenue_generated,color=\"blue\",marker=\"o\")\n",
    "    ax2.set_ylabel(\"revenue_generated\",color=\"blue\",fontsize=14)\n",
    "    fig.set_size_inches(10,6)\n",
    "    plt.show()\n",
    "\n",
    "def Plot_top15_category(ops):\n",
    "    top15_prodcat=pd.DataFrame(ops.product_category_name_english.value_counts().sort_values(ascending=False).head(15)).reset_index()\n",
    "    top15_prodcat.columns=['product_category_name_english','order_count']\n",
    "    fig=plt.gcf()\n",
    "    fig.set_size_inches(20,10)\n",
    "    graph=sns.barplot(y = 'product_category_name_english',x = 'order_count',data=top15_prodcat, orient = 'h')\n",
    "    for p in graph.patches:\n",
    "            graph.annotate('{:.0f}'.format(p.get_height()), (p.get_x()+0.3, p.get_height()),\n",
    "                        ha='center', va='bottom',\n",
    "                        color= 'black')\n",
    "    plt.xticks(rotation=-45)\n",
    "    \n",
    "def ComputeFinalDataSet(ops,mf):\n",
    "    ops1=ops.copy()\n",
    "    final_data=pd.merge(ops1[ops1.seller_id.notnull()],mf[['seller_id','landing_page_id', 'origin','business_segment',\n",
    "           'lead_type', 'lead_behaviour_profile','business_type']],how='left',on='seller_id')\n",
    "\n",
    "    final_data['month_purchase']=final_data.order_purchase_month_year.dt.month\n",
    "\n",
    "    final_data.order_id.nunique(),final_data.shape\n",
    "    \n",
    "    ##dropping high missing value column\n",
    "    for col in final_data.columns:\n",
    "        if ((final_data[col].isnull().sum())/(final_data.shape[0])>0.95):\n",
    "            final_data.drop(columns=[col],inplace=True)\n",
    "\n",
    "    final_data=final_data[final_data.product_category_name.notnull()]\n",
    "    final_data.delivery_days.fillna(final_data.delivery_days.median(),inplace=True)\n",
    "    final_data.columns\n",
    "\n",
    "    column_list = ['product_category_name','customer_city','customer_state']#,'lead_type','lead_behaviour_profile','business_type','landing_page_id','origin']\n",
    "\n",
    "    for column in column_list:\n",
    "        encoder = preprocessing.LabelEncoder()\n",
    "        encoder.fit(final_data[column])\n",
    "        final_data[column] = encoder.transform(final_data[column])\n",
    "    return final_data"
   ]
  },
  {
   "cell_type": "markdown",
   "id": "extra-bristol",
   "metadata": {},
   "source": [
    "Execute data merge\n",
    "\n",
    "Merge useful data set for future use"
   ]
  },
  {
   "cell_type": "code",
   "execution_count": 118,
   "id": "nonprofit-modem",
   "metadata": {},
   "outputs": [],
   "source": [
    "mql_closed_deals = DataMerge_mql_closed_deals()"
   ]
  },
  {
   "cell_type": "code",
   "execution_count": 119,
   "id": "automatic-sigma",
   "metadata": {
    "scrolled": false
   },
   "outputs": [],
   "source": [
    "orderInfo = DataMerge_orderInfo()"
   ]
  },
  {
   "cell_type": "markdown",
   "id": "changing-keyboard",
   "metadata": {},
   "source": [
    "Plot graphs for some insight"
   ]
  },
  {
   "cell_type": "code",
   "execution_count": 120,
   "id": "injured-jesus",
   "metadata": {},
   "outputs": [
    {
     "data": {
      "image/png": "[encoded data removed]",
      "text/plain": [
       "<Figure size 720x432 with 2 Axes>"
      ]
     },
     "metadata": {
      "needs_background": "light"
     },
     "output_type": "display_data"
    }
   ],
   "source": [
    "Plot_monthly_revenueGraph(orderInfo)"
   ]
  },
  {
   "cell_type": "code",
   "execution_count": 121,
   "id": "honey-potential",
   "metadata": {},
   "outputs": [
    {
     "data": {
      "image/png": "[encoded data removed]",
      "text/plain": [
       "<Figure size 1440x720 with 1 Axes>"
      ]
     },
     "metadata": {
      "needs_background": "light"
     },
     "output_type": "display_data"
    }
   ],
   "source": [
    "Plot_top15_category(orderInfo)"
   ]
  },
  {
   "cell_type": "markdown",
   "id": "swiss-small",
   "metadata": {},
   "source": [
    "Compute final data set"
   ]
  },
  {
   "cell_type": "code",
   "execution_count": 122,
   "id": "closed-gregory",
   "metadata": {},
   "outputs": [],
   "source": [
    "\n",
    "final_data = ComputeFinalDataSet(orderInfo,mql_closed_deals)"
   ]
  },
  {
   "cell_type": "code",
   "execution_count": 123,
   "id": "popular-prerequisite",
   "metadata": {},
   "outputs": [],
   "source": [
    "#Splitting Data into Train and Test samples\n",
    "# Import essential models and functions from sklearn\n",
    "from sklearn.linear_model import LinearRegression\n",
    "from sklearn.model_selection import train_test_split\n",
    "from sklearn.metrics import mean_squared_error\n",
    "from sklearn.ensemble import RandomForestRegressor\n",
    "from sklearn import metrics\n",
    "from sklearn.metrics import mean_absolute_error\n",
    "\n",
    "def LinearRegression_process(final_data,predictor, response):\n",
    "    Response = pd.DataFrame(final_data[response])  # Response\n",
    "    Predictor = pd.DataFrame(final_data[predictor])        # Predictor\n",
    "\n",
    "    # Split the Dataset into Train and Test\n",
    "    X_train, X_test, y_train, y_test = train_test_split(Predictor, Response, test_size = 0.25)\n",
    "\n",
    "    # Linear Regression using Train Data\n",
    "    linreg = LinearRegression()         # create the linear regression object\n",
    "    linreg.fit(X_train, y_train)        # train the linear regression model\n",
    "\n",
    "    # Coefficients of the Linear Regression line\n",
    "    print('Intercept of Regression \\t: b = ', linreg.intercept_)\n",
    "    print('Coefficients of Regression \\t: a = ', linreg.coef_)\n",
    "    print()\n",
    "\n",
    "    # Predict Total values corresponding to HP\n",
    "    y_train_pred = linreg.predict(X_train)\n",
    "    y_test_pred = linreg.predict(X_test)\n",
    "\n",
    "    # Check the Goodness of Fit (on Train Data)\n",
    "    print(\"Goodness of Fit of Model \\tTrain Dataset\")\n",
    "    print(\"Explained Variance (R^2) \\t:\", linreg.score(X_train, y_train))\n",
    "    print(\"Mean Squared Error (MSE) \\t:\", mean_squared_error(y_train, y_train_pred))\n",
    "    print()\n",
    "\n",
    "    # Check the Goodness of Fit (on Test Data)\n",
    "    print(\"Goodness of Fit of Model \\tTest Dataset\")\n",
    "    print(\"Explained Variance (R^2) \\t:\", linreg.score(X_test, y_test))\n",
    "    print(\"Mean Squared Error (MSE) \\t:\", mean_squared_error(y_test, y_test_pred))\n",
    "    print()\n",
    "\n",
    "    # Plot the Predictions vs the True values\n",
    "    f, axes = plt.subplots(1, 2, figsize=(24, 12))\n",
    "    axes[0].scatter(y_train, y_train_pred, color = \"blue\")\n",
    "    axes[0].plot(y_train, y_train, 'w-', linewidth = 1)\n",
    "    axes[0].set_xlabel(\"True values of the Response Variable (Train)\")\n",
    "    axes[0].set_ylabel(\"Predicted values of the Response Variable (Train)\")\n",
    "    axes[1].scatter(y_test, y_test_pred, color = \"green\")\n",
    "    axes[1].plot(y_test, y_test, 'w-', linewidth = 1)\n",
    "    axes[1].set_xlabel(\"True values of the Response Variable (Test)\")\n",
    "    axes[1].set_ylabel(\"Predicted values of the Response Variable (Test)\")\n",
    "    plt.show()\n",
    "\n",
    "\n",
    "def RandomForestRegression_process(final_data,predictor, response):\n",
    "\n",
    "    X = final_data[predictor].values\n",
    "    y = final_data[response].values\n",
    "    split_test_size = 0.25\n",
    "\n",
    "    X_train, X_test, y_train, y_test = train_test_split(X, y, test_size = split_test_size, random_state=8)\n",
    "\n",
    "    print('Training Features Shape:', X_train.shape)\n",
    "    print('Testing Features Shape:', X_test.shape)\n",
    "    print('Training labels Shape:', y_train.shape)\n",
    "    print('Testing labels Shape:', y_test.shape)\n",
    "    \n",
    "    rf_model_finaldata = RandomForestRegressor(n_estimators=100, min_samples_split=2, random_state = 20,n_jobs=-1)\n",
    "    rf_model_finaldata.fit(X_train, np.ravel(y_train,order='C'))\n",
    "\n",
    "    rf_predict_train = rf_model_finaldata.predict(X_train)\n",
    "    rf_predict_test = rf_model_finaldata.predict(X_test)\n",
    "\n",
    "    print(\"Mean Absolute error in predicting train data\",mean_absolute_error(y_train,rf_predict_train))\n",
    "    print(\"Mean Absolute error in predicting test data\",mean_absolute_error(y_test,rf_predict_test))\n",
    "    return rf_model_finaldata;\n",
    "   \n",
    "    \n",
    "def heatmap_final_data():\n",
    "    \n",
    "    sns.heatmap(final_data.corr())"
   ]
  },
  {
   "cell_type": "code",
   "execution_count": 141,
   "id": "norwegian-addition",
   "metadata": {
    "scrolled": false
   },
   "outputs": [
    {
     "name": "stdout",
     "output_type": "stream",
     "text": [
      "Training Features Shape: (72705, 5)\n",
      "Testing Features Shape: (24235, 5)\n",
      "Training labels Shape: (72705, 1)\n",
      "Testing labels Shape: (24235, 1)\n",
      "Mean Absolute error in predicting train data 0.11499921484671546\n",
      "Mean Absolute error in predicting test data 0.25890931563103786\n"
     ]
    },
    {
     "data": {
      "image/png": "[encoded data removed]",
      "text/plain": [
       "<Figure size 432x288 with 2 Axes>"
      ]
     },
     "metadata": {
      "needs_background": "light"
     },
     "output_type": "display_data"
    }
   ],
   "source": [
    "\n",
    "predictor = ['product_photos_qty','review_score','product_category_name',\n",
    "             'delivery_days', 'customer_city']\n",
    "response = ['total_qty']\n",
    "\n",
    "rf_model_finaldata = RandomForestRegression_process(final_data,predictor,response)\n",
    "\n",
    "heatmap_final_data()\n"
   ]
  },
  {
   "cell_type": "code",
   "execution_count": 142,
   "id": "annual-scratch",
   "metadata": {},
   "outputs": [
    {
     "data": {
      "text/html": [
       "<div>\n",
       "<style scoped>\n",
       "    .dataframe tbody tr th:only-of-type {\n",
       "        vertical-align: middle;\n",
       "    }\n",
       "\n",
       "    .dataframe tbody tr th {\n",
       "        vertical-align: top;\n",
       "    }\n",
       "\n",
       "    .dataframe thead th {\n",
       "        text-align: right;\n",
       "    }\n",
       "</style>\n",
       "<table border=\"1\" class=\"dataframe\">\n",
       "  <thead>\n",
       "    <tr style=\"text-align: right;\">\n",
       "      <th></th>\n",
       "      <th>order_id</th>\n",
       "      <th>totalprice_value</th>\n",
       "      <th>total_qty</th>\n",
       "      <th>product_id</th>\n",
       "      <th>seller_id</th>\n",
       "      <th>product_category_name</th>\n",
       "      <th>product_photos_qty</th>\n",
       "      <th>review_score</th>\n",
       "      <th>customer_id</th>\n",
       "      <th>delivery_days</th>\n",
       "      <th>customer_city</th>\n",
       "      <th>customer_state</th>\n",
       "      <th>product_category_name_english</th>\n",
       "      <th>order_purchase_month_year</th>\n",
       "      <th>month_purchase</th>\n",
       "    </tr>\n",
       "  </thead>\n",
       "  <tbody>\n",
       "    <tr>\n",
       "      <th>0</th>\n",
       "      <td>00010242fe8c5a6d1ba2dd792cb16214</td>\n",
       "      <td>58.90</td>\n",
       "      <td>1</td>\n",
       "      <td>4244733e06e7ecb4970a6e2683c13e61</td>\n",
       "      <td>48436dade18ac8b2bce089ec2a041202</td>\n",
       "      <td>26</td>\n",
       "      <td>4.0</td>\n",
       "      <td>5</td>\n",
       "      <td>3ce436f183e68e07877b285a838db11a</td>\n",
       "      <td>7.0</td>\n",
       "      <td>733</td>\n",
       "      <td>18</td>\n",
       "      <td>cool_stuff</td>\n",
       "      <td>2017-09</td>\n",
       "      <td>9</td>\n",
       "    </tr>\n",
       "    <tr>\n",
       "      <th>1</th>\n",
       "      <td>00018f77f2f0320c557190d7a144bdd3</td>\n",
       "      <td>239.90</td>\n",
       "      <td>1</td>\n",
       "      <td>e5f2d52b802189ee658865ca93d83a8f</td>\n",
       "      <td>dd7ddc04e1b6c2c614352b383efe2d36</td>\n",
       "      <td>63</td>\n",
       "      <td>2.0</td>\n",
       "      <td>4</td>\n",
       "      <td>f6dd3ec061db4e3987629fe6b26e5cce</td>\n",
       "      <td>16.0</td>\n",
       "      <td>3265</td>\n",
       "      <td>25</td>\n",
       "      <td>pet_shop</td>\n",
       "      <td>2017-04</td>\n",
       "      <td>4</td>\n",
       "    </tr>\n",
       "    <tr>\n",
       "      <th>2</th>\n",
       "      <td>000229ec398224ef6ca0657da4fc703e</td>\n",
       "      <td>199.00</td>\n",
       "      <td>1</td>\n",
       "      <td>c777355d18b72b67abbeef9df44fd0fd</td>\n",
       "      <td>5b51032eddd242adc84c38acab88f23d</td>\n",
       "      <td>54</td>\n",
       "      <td>2.0</td>\n",
       "      <td>5</td>\n",
       "      <td>6489ae5e4333f3693df5ad4372dab6d3</td>\n",
       "      <td>8.0</td>\n",
       "      <td>2645</td>\n",
       "      <td>10</td>\n",
       "      <td>furniture_decor</td>\n",
       "      <td>2018-01</td>\n",
       "      <td>1</td>\n",
       "    </tr>\n",
       "    <tr>\n",
       "      <th>3</th>\n",
       "      <td>00024acbcdf0a6daa1e931b038114c75</td>\n",
       "      <td>12.99</td>\n",
       "      <td>1</td>\n",
       "      <td>7634da152a4610f1595efa32f14722fc</td>\n",
       "      <td>9d7a1d34a5052409006425275ba1c2b4</td>\n",
       "      <td>62</td>\n",
       "      <td>1.0</td>\n",
       "      <td>4</td>\n",
       "      <td>d4eb9395c8c0431ee92fce09860c5a06</td>\n",
       "      <td>6.0</td>\n",
       "      <td>327</td>\n",
       "      <td>25</td>\n",
       "      <td>perfumery</td>\n",
       "      <td>2018-08</td>\n",
       "      <td>8</td>\n",
       "    </tr>\n",
       "    <tr>\n",
       "      <th>4</th>\n",
       "      <td>00042b26cf59d7ce69dfabb4e55b4fd9</td>\n",
       "      <td>199.90</td>\n",
       "      <td>1</td>\n",
       "      <td>ac6c3623068f30de03045865e4e10089</td>\n",
       "      <td>df560393f3a51e74553ab94004ba5c87</td>\n",
       "      <td>40</td>\n",
       "      <td>1.0</td>\n",
       "      <td>5</td>\n",
       "      <td>58dbd0b2d70206bf40e62cd34e84d795</td>\n",
       "      <td>25.0</td>\n",
       "      <td>3999</td>\n",
       "      <td>25</td>\n",
       "      <td>garden_tools</td>\n",
       "      <td>2017-02</td>\n",
       "      <td>2</td>\n",
       "    </tr>\n",
       "  </tbody>\n",
       "</table>\n",
       "</div>"
      ],
      "text/plain": [
       "                           order_id  totalprice_value  total_qty  \\\n",
       "0  00010242fe8c5a6d1ba2dd792cb16214             58.90          1   \n",
       "1  00018f77f2f0320c557190d7a144bdd3            239.90          1   \n",
       "2  000229ec398224ef6ca0657da4fc703e            199.00          1   \n",
       "3  00024acbcdf0a6daa1e931b038114c75             12.99          1   \n",
       "4  00042b26cf59d7ce69dfabb4e55b4fd9            199.90          1   \n",
       "\n",
       "                         product_id                         seller_id  \\\n",
       "0  4244733e06e7ecb4970a6e2683c13e61  48436dade18ac8b2bce089ec2a041202   \n",
       "1  e5f2d52b802189ee658865ca93d83a8f  dd7ddc04e1b6c2c614352b383efe2d36   \n",
       "2  c777355d18b72b67abbeef9df44fd0fd  5b51032eddd242adc84c38acab88f23d   \n",
       "3  7634da152a4610f1595efa32f14722fc  9d7a1d34a5052409006425275ba1c2b4   \n",
       "4  ac6c3623068f30de03045865e4e10089  df560393f3a51e74553ab94004ba5c87   \n",
       "\n",
       "   product_category_name  product_photos_qty  review_score  \\\n",
       "0                     26                 4.0             5   \n",
       "1                     63                 2.0             4   \n",
       "2                     54                 2.0             5   \n",
       "3                     62                 1.0             4   \n",
       "4                     40                 1.0             5   \n",
       "\n",
       "                        customer_id  delivery_days  customer_city  \\\n",
       "0  3ce436f183e68e07877b285a838db11a            7.0            733   \n",
       "1  f6dd3ec061db4e3987629fe6b26e5cce           16.0           3265   \n",
       "2  6489ae5e4333f3693df5ad4372dab6d3            8.0           2645   \n",
       "3  d4eb9395c8c0431ee92fce09860c5a06            6.0            327   \n",
       "4  58dbd0b2d70206bf40e62cd34e84d795           25.0           3999   \n",
       "\n",
       "   customer_state product_category_name_english order_purchase_month_year  \\\n",
       "0              18                    cool_stuff                   2017-09   \n",
       "1              25                      pet_shop                   2017-04   \n",
       "2              10               furniture_decor                   2018-01   \n",
       "3              25                     perfumery                   2018-08   \n",
       "4              25                  garden_tools                   2017-02   \n",
       "\n",
       "   month_purchase  \n",
       "0               9  \n",
       "1               4  \n",
       "2               1  \n",
       "3               8  \n",
       "4               2  "
      ]
     },
     "execution_count": 142,
     "metadata": {},
     "output_type": "execute_result"
    }
   ],
   "source": [
    "final_data.head()"
   ]
  },
  {
   "cell_type": "code",
   "execution_count": 144,
   "id": "standard-sewing",
   "metadata": {},
   "outputs": [
    {
     "name": "stderr",
     "output_type": "stream",
     "text": [
      "c:\\users\\xuchaoliang\\appdata\\local\\programs\\python\\python39\\lib\\site-packages\\seaborn\\_decorators.py:36: FutureWarning: Pass the following variables as keyword args: x, y. From version 0.12, the only valid positional argument will be `data`, and passing other arguments without an explicit keyword will result in an error or misinterpretation.\n",
      "  warnings.warn(\n"
     ]
    },
    {
     "data": {
      "text/plain": [
       "(array([0, 1, 2, 3, 4]),\n",
       " [Text(0, 0, 'customer_city'),\n",
       "  Text(1, 0, 'delivery_days'),\n",
       "  Text(2, 0, 'product_category_name'),\n",
       "  Text(3, 0, 'review_score'),\n",
       "  Text(4, 0, 'product_photos_qty')])"
      ]
     },
     "execution_count": 144,
     "metadata": {},
     "output_type": "execute_result"
    },
    {
     "data": {
      "image/png": "[encoded data removed]",
      "text/plain": [
       "<Figure size 432x288 with 1 Axes>"
      ]
     },
     "metadata": {
      "needs_background": "light"
     },
     "output_type": "display_data"
    }
   ],
   "source": [
    "\n",
    "imp_features = pd.Series(rf_model_finaldata.feature_importances_,index=predictor).sort_values(ascending=False)\n",
    "imp_features=pd.DataFrame(imp_features.reset_index())\n",
    "imp_features.columns=['variable_name','importance']\n",
    "sns.barplot('variable_name','importance',data=imp_features)\n",
    "plt.title('Feature Importance Plot')\n",
    "plt.xticks(rotation=60)\n"
   ]
  },
  {
   "cell_type": "markdown",
   "id": "concrete-edwards",
   "metadata": {},
   "source": [
    "We will be interested in the top 3 factors"
   ]
  },
  {
   "cell_type": "code",
   "execution_count": null,
   "id": "major-industry",
   "metadata": {},
   "outputs": [],
   "source": []
  },
  {
   "cell_type": "code",
   "execution_count": null,
   "id": "graduate-myanmar",
   "metadata": {},
   "outputs": [],
   "source": []
  }
 ],
 "metadata": {
  "kernelspec": {
   "display_name": "Python 3",
   "language": "python",
   "name": "python3"
  },
  "language_info": {
   "codemirror_mode": {
    "name": "ipython",
    "version": 3
   },
   "file_extension": ".py",
   "mimetype": "text/x-python",
   "name": "python",
   "nbconvert_exporter": "python",
   "pygments_lexer": "ipython3",
   "version": "3.9.2"
  }
 },
 "nbformat": 4,
 "nbformat_minor": 5
}
